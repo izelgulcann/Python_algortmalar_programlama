{
  "nbformat": 4,
  "nbformat_minor": 0,
  "metadata": {
    "colab": {
      "provenance": []
    },
    "kernelspec": {
      "name": "python3",
      "display_name": "Python 3"
    },
    "language_info": {
      "name": "python"
    }
  },
  "cells": [
    {
      "cell_type": "markdown",
      "source": [
        "Tek eşittir ifadesi atama anlamına gelir."
      ],
      "metadata": {
        "id": "bdSKsUoVR0JF"
      }
    },
    {
      "cell_type": "markdown",
      "source": [
        "Yüzde işareti mod alma işlemidir."
      ],
      "metadata": {
        "id": "bFq9M-WOaiHL"
      }
    },
    {
      "cell_type": "code",
      "source": [
        "Ders_no = 4 # Int - tam sayı degiskeni tanımlanmıştır\n",
        "pi_sayisi = 3.14 # Float - kesirli sayı türü\n",
        "Dersin_ismi = \"Python - Veri Yapıları ve Algoritmalar\" # String - Metinsel bilgi türü\n",
        "durum1 = True # Bool degisken veri türü\n",
        "durum2 = False # Bool degisken  veri türü\n",
        "\n",
        "print(Ders_no)\n",
        "print(pi_sayisi)\n",
        "print(Dersin_ismi)\n",
        "print(durum1)\n",
        "print(durum2)"
      ],
      "metadata": {
        "colab": {
          "base_uri": "https://localhost:8080/"
        },
        "id": "PMCm3dGpaoQS",
        "outputId": "758e88e5-d85a-4017-8b6e-8c7b0d2314e7"
      },
      "execution_count": 1,
      "outputs": [
        {
          "output_type": "stream",
          "name": "stdout",
          "text": [
            "4\n",
            "3.14\n",
            "Python - Veri Yapıları ve Algoritmalar\n",
            "True\n",
            "False\n"
          ]
        }
      ]
    },
    {
      "cell_type": "code",
      "source": [
        "print(\"1. Değişkenin Değeri: \", Ders_no, \"- 1. Değişkenin Türü: \", type(Ders_no))\n",
        "print(\"2. Değişkenin Değeri: \", pi_sayisi, \"- 2. Değişkenin Türü: \", type(pi_sayisi))\n",
        "print(\"3. Değişkenin Değeri: \", Dersin_ismi, \"- 3. Değişkenin Türü: \", type(Dersin_ismi))\n",
        "print(\"4. Değişkenin Değeri: \", durum1, \"- 4. Değişkenin Türü: \", type(durum1))\n",
        "print(\"5. Değişkenin Değeri: \", durum2, \"- 5. Değişkenin Türü: \", type(durum2))"
      ],
      "metadata": {
        "colab": {
          "base_uri": "https://localhost:8080/"
        },
        "id": "DlegnWDecMoM",
        "outputId": "8e2f2a8e-6cf2-4787-d0c5-15414b86bbcd"
      },
      "execution_count": 2,
      "outputs": [
        {
          "output_type": "stream",
          "name": "stdout",
          "text": [
            "1. Değişkenin Değeri:  4 - 1. Değişkenin Türü:  <class 'int'>\n",
            "2. Değişkenin Değeri:  3.14 - 2. Değişkenin Türü:  <class 'float'>\n",
            "3. Değişkenin Değeri:  Python - Veri Yapıları ve Algoritmalar - 3. Değişkenin Türü:  <class 'str'>\n",
            "4. Değişkenin Değeri:  True - 4. Değişkenin Türü:  <class 'bool'>\n",
            "5. Değişkenin Değeri:  False - 5. Değişkenin Türü:  <class 'bool'>\n"
          ]
        }
      ]
    },
    {
      "cell_type": "code",
      "source": [
        "a = 7\n",
        "b = 3\n",
        "\n",
        "print(\"Toplama:\", a+b)\n",
        "print(\"Üs Alma: \", a**b)\n",
        "print(\"Mod Alma:\", a%b)\n",
        "print(\"a == b:\", a == b)\n",
        "print(\"a > b:\", a > b)"
      ],
      "metadata": {
        "colab": {
          "base_uri": "https://localhost:8080/"
        },
        "id": "84I0kyJrcQ5a",
        "outputId": "6a0c89ef-aee8-4c8c-8cff-bf6c8efbe25c"
      },
      "execution_count": 3,
      "outputs": [
        {
          "output_type": "stream",
          "name": "stdout",
          "text": [
            "Toplama: 10\n",
            "Üs Alma:  343\n",
            "Mod Alma: 1\n",
            "a == b: False\n",
            "a > b: True\n"
          ]
        }
      ]
    },
    {
      "cell_type": "code",
      "source": [
        "a = True # True - Doğru - 1\n",
        "b = False # False - Yanlış - 0\n",
        "\n",
        "print(\"a ve_kapısı b:\", a and b)\n",
        "print(\"a veya_kapısı b:\", a or b)\n",
        "print(\"a degiskenin tersliyoruz:\", not a)\n",
        ""
      ],
      "metadata": {
        "colab": {
          "base_uri": "https://localhost:8080/"
        },
        "id": "j8efs1eScXdC",
        "outputId": "312bfd46-0d05-407b-e9ed-930f4d46c66a"
      },
      "execution_count": 4,
      "outputs": [
        {
          "output_type": "stream",
          "name": "stdout",
          "text": [
            "a ve_kapısı b: False\n",
            "a veya_kapısı b: True\n",
            "a degiskenin tersliyoruz: False\n"
          ]
        }
      ]
    },
    {
      "cell_type": "code",
      "source": [
        "x = 7\n",
        "y = 4\n",
        "\n",
        "x += 3 # x = x + 3\n",
        "y -= 3 # y = y - 3\n",
        "\n",
        "print(x)\n",
        "print(y)"
      ],
      "metadata": {
        "colab": {
          "base_uri": "https://localhost:8080/"
        },
        "id": "esDFWFrXcZCB",
        "outputId": "4b8ebce4-9d01-4d38-b11b-3a7a1028d379"
      },
      "execution_count": 5,
      "outputs": [
        {
          "output_type": "stream",
          "name": "stdout",
          "text": [
            "10\n",
            "1\n"
          ]
        }
      ]
    },
    {
      "cell_type": "code",
      "source": [
        "a = 7\n",
        "b = 3\n",
        "\n",
        "print(a & b)\n",
        "print(a | b)\n",
        "print(a ^ b)"
      ],
      "metadata": {
        "colab": {
          "base_uri": "https://localhost:8080/"
        },
        "id": "KQb7ZMv7ccRa",
        "outputId": "41783d8d-432b-4d16-9f13-9e1fc51d3119"
      },
      "execution_count": 6,
      "outputs": [
        {
          "output_type": "stream",
          "name": "stdout",
          "text": [
            "3\n",
            "7\n",
            "4\n"
          ]
        }
      ]
    }
  ]
}