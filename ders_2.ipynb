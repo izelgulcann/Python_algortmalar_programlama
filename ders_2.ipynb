{
  "nbformat": 4,
  "nbformat_minor": 0,
  "metadata": {
    "colab": {
      "provenance": []
    },
    "kernelspec": {
      "name": "python3",
      "display_name": "Python 3"
    },
    "language_info": {
      "name": "python"
    }
  },
  "cells": [
    {
      "cell_type": "code",
      "execution_count": null,
      "metadata": {
        "colab": {
          "base_uri": "https://localhost:8080/"
        },
        "id": "PJG337VSIBu_",
        "outputId": "b0983bee-648f-45f2-859e-3507d1717749"
      },
      "outputs": [
        {
          "output_type": "stream",
          "name": "stdout",
          "text": [
            "Merhaba,Python Algoritma Sınıfı\n"
          ]
        }
      ],
      "source": [
        "print(\"Merhaba,Python Algoritma Sınıfı\")\n"
      ]
    },
    {
      "cell_type": "markdown",
      "source": [
        "String bilgi türü - > Metinsel ifadedir.\n",
        "İnteger bilgi türü - > Sayısal ifadedir."
      ],
      "metadata": {
        "id": "qOdFO3VwLB49"
      }
    },
    {
      "cell_type": "code",
      "source": [
        "import sys #import python programlama dilinde kütüphane eklemeye yarayan bir kod blogudur.\n",
        "print(sys.version)"
      ],
      "metadata": {
        "colab": {
          "base_uri": "https://localhost:8080/"
        },
        "id": "m5rmF0uPMqJj",
        "outputId": "0c3c6417-814d-4d62-a5bd-f73f05ab70e5"
      },
      "execution_count": null,
      "outputs": [
        {
          "output_type": "stream",
          "name": "stdout",
          "text": [
            "3.11.11 (main, Dec  4 2024, 08:55:07) [GCC 11.4.0]\n"
          ]
        }
      ]
    },
    {
      "cell_type": "code",
      "source": [
        "from google.colab import drive\n",
        "drive.mount('/content/drive')"
      ],
      "metadata": {
        "colab": {
          "base_uri": "https://localhost:8080/"
        },
        "id": "Sg-zMkeXPNHe",
        "outputId": "4c0be90c-c146-44c8-ff7c-0c869f029068"
      },
      "execution_count": null,
      "outputs": [
        {
          "output_type": "stream",
          "name": "stdout",
          "text": [
            "Mounted at /content/drive\n"
          ]
        }
      ]
    },
    {
      "cell_type": "code",
      "source": [
        "import os\n",
        "os.chdir('/content/drive/My Drive/ALGORITMALAR')"
      ],
      "metadata": {
        "id": "cLmBkcYwPZ0G"
      },
      "execution_count": null,
      "outputs": []
    }
  ]
}