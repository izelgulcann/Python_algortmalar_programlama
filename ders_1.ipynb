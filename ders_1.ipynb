{
  "nbformat": 4,
  "nbformat_minor": 0,
  "metadata": {
    "colab": {
      "provenance": []
    },
    "kernelspec": {
      "name": "python3",
      "display_name": "Python 3"
    },
    "language_info": {
      "name": "python"
    }
  },
  "cells": [
    {
      "cell_type": "code",
      "execution_count": null,
      "metadata": {
        "colab": {
          "base_uri": "https://localhost:8080/"
        },
        "id": "D_89J8WZY-w1",
        "outputId": "1392313d-da8d-423a-cdba-751b0cdb6922"
      },
      "outputs": [
        {
          "output_type": "stream",
          "name": "stdout",
          "text": [
            "Merhaba - Algoritmalar Dersi\n"
          ]
        }
      ],
      "source": [
        "print(\"Merhaba - Algoritmalar Dersi\")"
      ]
    }
  ]
}